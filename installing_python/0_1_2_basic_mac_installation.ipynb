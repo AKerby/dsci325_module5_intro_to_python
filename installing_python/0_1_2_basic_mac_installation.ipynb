{
 "cells": [
  {
   "cell_type": "markdown",
   "metadata": {},
   "source": [
    "## A Basic Python Installation on MacOS\n",
    "\n",
    "The following instructions will provide a basic python/Anaconda working environment that will work for most basic tasks.  The installation steps include  \n",
    "\n",
    "1. Install Anaconda\n",
    "2. Install Virtual Studio Code \n",
    "3. Install the `vscode` Python extension.\n",
    "4. Install Git for Windows\n",
    "\n",
    "**Note.** If you plan to do more advanced data science applications, such as deep learning, pyspark, etc.; consider installing windows through the Window's Subsystem for Linux.  Instructions can be found in the **./0_2_2_careful_mac_installation.ipynb** notebook."
   ]
  },
  {
   "cell_type": "markdown",
   "metadata": {},
   "source": [
    "## Step 1 - Installing Anaconda\n",
    "\n",
    "Anaconda is a curated python distribution that automates that installation of many important libraries, including those commonly used in data science.  You should download and install the latest version of Anaconda, which can be found at [the Anaconda website](https://www.anaconda.com).\n",
    "\n",
    "I will show how to complete this task in the following video."
   ]
  },
  {
   "cell_type": "markdown",
   "metadata": {},
   "source": [
    "## Step 2 - Installing Virtual Studio Code\n",
    "\n",
    "We will be using Microsoft's Virtual Studio Code (`vscode` or `code`) as a development environment because\n",
    "\n",
    "1. It has a rich extension library, including extensions that makes it easy to work in WSL and with Python.\n",
    "2. Has great git/GitHub integration, which allows you to easily get and work with git/GitHub.\n",
    "3. Allows you construct/run Jupyter notebooks\n",
    "\n",
    "You can install vscode by visiting [https://code.visualstudio.com/Download](https://code.visualstudio.com/Download) and selecting the installation for your make of PC.\n",
    " "
   ]
  },
  {
   "cell_type": "markdown",
   "metadata": {},
   "source": [
    "## Step 3 - Install `vscode` Python extension\n",
    "\n",
    "Once you have installed `vscode` and `Anaconda`, you should install Microsoft's Python extension, which will handle the integration between the two.  See below.\n",
    "\n",
    "<img src='./img/install_vscode_python_extension.png' width='600'/>\n"
   ]
  },
  {
   "cell_type": "markdown",
   "metadata": {},
   "source": [
    "## Step 4 - Install Git\n",
    "\n",
    "Finally, we will install git by\n",
    "\n",
    "1. Opening the Terminal application\n",
    "2. Installing the XCode command line tools by executing `xcode-select --install`\n",
    "\n",
    "<img src='./img/install_git_macos.png' width=\"600\"/>"
   ]
  }
 ],
 "metadata": {
  "kernelspec": {
   "display_name": "Python 3 (ipykernel)",
   "language": "python",
   "name": "python3"
  },
  "language_info": {
   "codemirror_mode": {
    "name": "ipython",
    "version": 3
   },
   "file_extension": ".py",
   "mimetype": "text/x-python",
   "name": "python",
   "nbconvert_exporter": "python",
   "pygments_lexer": "ipython3",
   "version": "3.9.12"
  },
  "varInspector": {
   "cols": {
    "lenName": 16,
    "lenType": 16,
    "lenVar": 40
   },
   "kernels_config": {
    "python": {
     "delete_cmd_postfix": "",
     "delete_cmd_prefix": "del ",
     "library": "var_list.py",
     "varRefreshCmd": "print(var_dic_list())"
    },
    "r": {
     "delete_cmd_postfix": ") ",
     "delete_cmd_prefix": "rm(",
     "library": "var_list.r",
     "varRefreshCmd": "cat(var_dic_list()) "
    }
   },
   "types_to_exclude": [
    "module",
    "function",
    "builtin_function_or_method",
    "instance",
    "_Feature"
   ],
   "window_display": false
  }
 },
 "nbformat": 4,
 "nbformat_minor": 2
}
