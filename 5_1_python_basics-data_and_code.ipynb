{
  "cells": [
    {
      "cell_type": "markdown",
      "metadata": {
        "id": "view-in-github",
        "colab_type": "text"
      },
      "source": [
        "<a href=\"https://colab.research.google.com/github/AKerby/dsci325_module5_intro_to_python/blob/main/5_1_python_basics-data_and_code.ipynb\" target=\"_parent\"><img src=\"https://colab.research.google.com/assets/colab-badge.svg\" alt=\"Open In Colab\"/></a>"
      ]
    },
    {
      "cell_type": "markdown",
      "id": "cda8e826",
      "metadata": {
        "id": "cda8e826"
      },
      "source": [
        "# Module 5.1 - Python Basics: Data, Types, Expressions, and Statements\n",
        "\n",
        "In this section, we will cover the basic building block of Python code, namely\n",
        "\n",
        "* **Part 1.** Python data and types\n",
        "* **Part 2.** Expressions and statements"
      ]
    },
    {
      "cell_type": "markdown",
      "id": "7d21842d",
      "metadata": {
        "id": "7d21842d"
      },
      "source": [
        "## Python data\n",
        "\n",
        "* All data have a *type* and *value*\n",
        "    * *type* is based off the underlying class\n",
        "    * *value* is returned by the Python interpreter\n",
        "* We can use the `type` function to discover data classes/types"
      ]
    },
    {
      "cell_type": "markdown",
      "id": "88f66576",
      "metadata": {
        "id": "88f66576"
      },
      "source": [
        "#### Value and type of `\"Hello World\"`"
      ]
    },
    {
      "cell_type": "code",
      "execution_count": null,
      "id": "a4db2ef7",
      "metadata": {
        "id": "a4db2ef7",
        "outputId": "bd733673-cec4-4443-be51-b5547837eb47"
      },
      "outputs": [
        {
          "data": {
            "text/plain": [
              "'Hello World'"
            ]
          },
          "execution_count": 1,
          "metadata": {},
          "output_type": "execute_result"
        }
      ],
      "source": [
        "\"Hello World\""
      ]
    },
    {
      "cell_type": "code",
      "execution_count": null,
      "id": "451d6105",
      "metadata": {
        "id": "451d6105",
        "outputId": "b4b92be3-1e64-4336-e40f-9a94a1947535"
      },
      "outputs": [
        {
          "data": {
            "text/plain": [
              "str"
            ]
          },
          "execution_count": 2,
          "metadata": {},
          "output_type": "execute_result"
        }
      ],
      "source": [
        "type(\"Hello World\")"
      ]
    },
    {
      "cell_type": "markdown",
      "id": "f179152b",
      "metadata": {
        "id": "f179152b"
      },
      "source": [
        "#### Value and type of `17`"
      ]
    },
    {
      "cell_type": "code",
      "execution_count": null,
      "id": "0717be4e",
      "metadata": {
        "scrolled": true,
        "id": "0717be4e",
        "outputId": "840376c0-77f7-4a82-f924-65b1732d738d"
      },
      "outputs": [
        {
          "data": {
            "text/plain": [
              "17"
            ]
          },
          "execution_count": 28,
          "metadata": {},
          "output_type": "execute_result"
        }
      ],
      "source": [
        "17"
      ]
    },
    {
      "cell_type": "code",
      "execution_count": null,
      "id": "b5e70204",
      "metadata": {
        "scrolled": false,
        "id": "b5e70204",
        "outputId": "27f69fc6-832f-494f-98dc-eb7866dcd48a"
      },
      "outputs": [
        {
          "data": {
            "text/plain": [
              "int"
            ]
          },
          "execution_count": 29,
          "metadata": {},
          "output_type": "execute_result"
        }
      ],
      "source": [
        "type(17)"
      ]
    },
    {
      "cell_type": "markdown",
      "id": "0bd619f0",
      "metadata": {
        "id": "0bd619f0"
      },
      "source": [
        "#### Value and type of `17.0`"
      ]
    },
    {
      "cell_type": "code",
      "execution_count": null,
      "id": "c967bc47",
      "metadata": {
        "scrolled": true,
        "id": "c967bc47",
        "outputId": "db840670-9743-4022-9ea1-45eab61daad5"
      },
      "outputs": [
        {
          "data": {
            "text/plain": [
              "17"
            ]
          },
          "execution_count": 28,
          "metadata": {},
          "output_type": "execute_result"
        }
      ],
      "source": [
        "17.0"
      ]
    },
    {
      "cell_type": "code",
      "execution_count": null,
      "id": "3671b203",
      "metadata": {
        "scrolled": false,
        "id": "3671b203",
        "outputId": "fa40c696-bd00-47d3-be08-cd30365ebf32"
      },
      "outputs": [
        {
          "data": {
            "text/plain": [
              "int"
            ]
          },
          "execution_count": 29,
          "metadata": {},
          "output_type": "execute_result"
        }
      ],
      "source": [
        "type(17.0)"
      ]
    },
    {
      "cell_type": "markdown",
      "id": "cc5321ad",
      "metadata": {
        "id": "cc5321ad"
      },
      "source": [
        "## <font color=\"red\"> Exercise 5.1.1 </font>\n",
        "\n",
        "Investigate the type and value of the following code and explain any differences.\n",
        "\n",
        "* 2 + 17\n",
        "* 2 + 17.0"
      ]
    },
    {
      "cell_type": "code",
      "execution_count": null,
      "id": "08243520",
      "metadata": {
        "scrolled": false,
        "id": "08243520"
      },
      "outputs": [],
      "source": [
        "# Your code here"
      ]
    },
    {
      "cell_type": "markdown",
      "id": "cbf5ee2e",
      "metadata": {
        "id": "cbf5ee2e"
      },
      "source": [
        "> Your explanation here."
      ]
    },
    {
      "cell_type": "markdown",
      "id": "8d49acac",
      "metadata": {
        "id": "8d49acac"
      },
      "source": [
        "## Other basic types\n",
        "\n",
        "* **Boolean** represent truth using `True` and `False`\n",
        "* **NoneType** use `None` to represent empty/missing/nothing"
      ]
    },
    {
      "cell_type": "code",
      "execution_count": null,
      "id": "a172350b",
      "metadata": {
        "id": "a172350b",
        "outputId": "5829aea5-552c-40d7-d067-c1e8774893c8"
      },
      "outputs": [
        {
          "data": {
            "text/plain": [
              "True"
            ]
          },
          "execution_count": 36,
          "metadata": {},
          "output_type": "execute_result"
        }
      ],
      "source": [
        "True"
      ]
    },
    {
      "cell_type": "code",
      "execution_count": null,
      "id": "4cad01ac",
      "metadata": {
        "id": "4cad01ac",
        "outputId": "a0c8c600-aac6-45b1-db61-4f93ce9404ed"
      },
      "outputs": [
        {
          "data": {
            "text/plain": [
              "bool"
            ]
          },
          "execution_count": 37,
          "metadata": {},
          "output_type": "execute_result"
        }
      ],
      "source": [
        "type(True)"
      ]
    },
    {
      "cell_type": "code",
      "execution_count": null,
      "id": "a56ff1b7",
      "metadata": {
        "id": "a56ff1b7",
        "outputId": "d55801f7-eeaa-463e-d7d7-9458c599844a"
      },
      "outputs": [
        {
          "data": {
            "text/plain": [
              "False"
            ]
          },
          "execution_count": 38,
          "metadata": {},
          "output_type": "execute_result"
        }
      ],
      "source": [
        "False"
      ]
    },
    {
      "cell_type": "code",
      "execution_count": null,
      "id": "f215b33e",
      "metadata": {
        "id": "f215b33e",
        "outputId": "bc855e47-147f-4a0a-ad76-e53efc30011f"
      },
      "outputs": [
        {
          "data": {
            "text/plain": [
              "bool"
            ]
          },
          "execution_count": 39,
          "metadata": {},
          "output_type": "execute_result"
        }
      ],
      "source": [
        "type(False)"
      ]
    },
    {
      "cell_type": "code",
      "execution_count": null,
      "id": "4ffe551d",
      "metadata": {
        "id": "4ffe551d"
      },
      "outputs": [],
      "source": [
        "None"
      ]
    },
    {
      "cell_type": "code",
      "execution_count": null,
      "id": "c093e3d2",
      "metadata": {
        "id": "c093e3d2",
        "outputId": "5942f8bb-d8a8-4214-fec7-3101bb100100"
      },
      "outputs": [
        {
          "data": {
            "text/plain": [
              "NoneType"
            ]
          },
          "execution_count": 41,
          "metadata": {},
          "output_type": "execute_result"
        }
      ],
      "source": [
        "type(None)"
      ]
    },
    {
      "cell_type": "markdown",
      "id": "3418ac53",
      "metadata": {
        "id": "3418ac53"
      },
      "source": [
        "## Collection types\n",
        "\n",
        "Python comes with nice collection types\n",
        "\n",
        "* `list` and `tuple` for sequences of data\n",
        "* `dict` for mapping/translation\n",
        "* `set` for representing groupings and checking membership"
      ]
    },
    {
      "cell_type": "markdown",
      "id": "0ff64ab3",
      "metadata": {
        "id": "0ff64ab3"
      },
      "source": [
        "#### `list` - a mutable sequence/array"
      ]
    },
    {
      "cell_type": "code",
      "execution_count": null,
      "id": "e586479a",
      "metadata": {
        "id": "e586479a",
        "outputId": "42687689-b5a3-4a27-a96a-9c58a14e4813"
      },
      "outputs": [
        {
          "data": {
            "text/plain": [
              "[1, 2, 3]"
            ]
          },
          "execution_count": 8,
          "metadata": {},
          "output_type": "execute_result"
        }
      ],
      "source": [
        "[1,2,3] # Surround a list with [ ... ]"
      ]
    },
    {
      "cell_type": "code",
      "execution_count": null,
      "id": "62fffdcc",
      "metadata": {
        "id": "62fffdcc",
        "outputId": "b2a0bf9e-1593-48fa-a3ca-a88f37922be5"
      },
      "outputs": [
        {
          "data": {
            "text/plain": [
              "list"
            ]
          },
          "execution_count": 9,
          "metadata": {},
          "output_type": "execute_result"
        }
      ],
      "source": [
        "type([1,2,3])"
      ]
    },
    {
      "cell_type": "markdown",
      "id": "9cbd5b5f",
      "metadata": {
        "id": "9cbd5b5f"
      },
      "source": [
        "#### `tuple` - a mutable sequence/array"
      ]
    },
    {
      "cell_type": "code",
      "execution_count": null,
      "id": "6bf0e72f",
      "metadata": {
        "id": "6bf0e72f",
        "outputId": "7aa52ce8-5a4d-4a7d-8063-9173034e3551"
      },
      "outputs": [
        {
          "data": {
            "text/plain": [
              "(1, 2, 3)"
            ]
          },
          "execution_count": 10,
          "metadata": {},
          "output_type": "execute_result"
        }
      ],
      "source": [
        "(1,2,3) # Surround with ( v1, ... ) - Must have at least one comma"
      ]
    },
    {
      "cell_type": "code",
      "execution_count": null,
      "id": "f89bc7ba",
      "metadata": {
        "id": "f89bc7ba",
        "outputId": "48bffaf8-e437-4a83-d461-18fb16541f71"
      },
      "outputs": [
        {
          "data": {
            "text/plain": [
              "tuple"
            ]
          },
          "execution_count": 11,
          "metadata": {},
          "output_type": "execute_result"
        }
      ],
      "source": [
        "type((1,2,3))"
      ]
    },
    {
      "cell_type": "markdown",
      "id": "fd8c273f",
      "metadata": {
        "id": "fd8c273f"
      },
      "source": [
        "#### `dict` - an associative map"
      ]
    },
    {
      "cell_type": "code",
      "execution_count": null,
      "id": "179ef370",
      "metadata": {
        "id": "179ef370",
        "outputId": "ece8ac3b-e4c6-4861-82c3-82f0d489cb70"
      },
      "outputs": [
        {
          "data": {
            "text/plain": [
              "{'one': 1, 'two': 2, 'three': 3}"
            ]
          },
          "execution_count": 12,
          "metadata": {},
          "output_type": "execute_result"
        }
      ],
      "source": [
        "{\"one\":1, \"two\":2, \"three\":3} # Use {k1:v1, k2,v2, ... } - Needs pairs separated by :"
      ]
    },
    {
      "cell_type": "code",
      "execution_count": null,
      "id": "f9713ef1",
      "metadata": {
        "id": "f9713ef1",
        "outputId": "9b77c182-7b87-457c-a188-68437e7d0c7f"
      },
      "outputs": [
        {
          "data": {
            "text/plain": [
              "dict"
            ]
          },
          "execution_count": 13,
          "metadata": {},
          "output_type": "execute_result"
        }
      ],
      "source": [
        "type({\"one\":1, \"two\":2, \"three\":3})"
      ]
    },
    {
      "cell_type": "markdown",
      "id": "0e30f0bf",
      "metadata": {
        "id": "0e30f0bf"
      },
      "source": [
        "#### `set` - Unordered collection of unique values"
      ]
    },
    {
      "cell_type": "code",
      "execution_count": null,
      "id": "f8ce25a3",
      "metadata": {
        "id": "f8ce25a3",
        "outputId": "9ce22e2b-ca43-44b6-879a-f3bc9621a68e"
      },
      "outputs": [
        {
          "data": {
            "text/plain": [
              "{1, 2, 3}"
            ]
          },
          "execution_count": 14,
          "metadata": {},
          "output_type": "execute_result"
        }
      ],
      "source": [
        "{1,2,3} # Use {v1, v2, ..}"
      ]
    },
    {
      "cell_type": "code",
      "execution_count": null,
      "id": "4e1bf61c",
      "metadata": {
        "id": "4e1bf61c",
        "outputId": "ce8e25da-6ed9-4768-c8af-33f8aa006a42"
      },
      "outputs": [
        {
          "data": {
            "text/plain": [
              "set"
            ]
          },
          "execution_count": 15,
          "metadata": {},
          "output_type": "execute_result"
        }
      ],
      "source": [
        "type({1,2,3})"
      ]
    },
    {
      "cell_type": "markdown",
      "id": "c4127044",
      "metadata": {
        "nbpresent": {
          "id": "d6ce38da-dd5e-49ae-96d9-a13b7c588c7f"
        },
        "id": "c4127044"
      },
      "source": [
        "## Expressions and Statements\n",
        "\n",
        "Two types of Python code\n",
        "* **statements** \"Do this\"\n",
        "    * Does not return/evaluate to a value\n",
        "    * Often contain expressions\n",
        "* **expressions** \"Compute this value\"\n",
        "    * Always returns data\n",
        "* I prefer expressions"
      ]
    },
    {
      "cell_type": "markdown",
      "id": "642799e6",
      "metadata": {
        "id": "642799e6"
      },
      "source": [
        "#### Example expression - Compute a sum of a list of values"
      ]
    },
    {
      "cell_type": "code",
      "execution_count": null,
      "id": "906fc333",
      "metadata": {
        "nbpresent": {
          "id": "3394c082-f660-4228-8b52-a46f2e9c02de"
        },
        "id": "906fc333",
        "outputId": "b7280416-0519-40b0-d699-3bb277d1fa9a"
      },
      "outputs": [
        {
          "data": {
            "text/plain": [
              "6"
            ]
          },
          "execution_count": 2,
          "metadata": {},
          "output_type": "execute_result"
        }
      ],
      "source": [
        "sum([1,2,3]) # expression (returns 6)"
      ]
    },
    {
      "cell_type": "markdown",
      "id": "3994e718",
      "metadata": {
        "id": "3994e718"
      },
      "source": [
        "#### Example statement - Assign a value to a variable"
      ]
    },
    {
      "cell_type": "code",
      "execution_count": null,
      "id": "53701682",
      "metadata": {
        "nbpresent": {
          "id": "348801b9-66cf-4248-81c6-32b52ca127e8"
        },
        "id": "53701682"
      },
      "outputs": [],
      "source": [
        "x = sum([1,2,3]) # assignment statement (no value)"
      ]
    },
    {
      "cell_type": "markdown",
      "id": "1582bf73",
      "metadata": {
        "id": "1582bf73"
      },
      "source": [
        "#### Example expression - Evaluate a variable to see it's value"
      ]
    },
    {
      "cell_type": "code",
      "execution_count": null,
      "id": "82ee54be",
      "metadata": {
        "nbpresent": {
          "id": "5b62bd9c-ca01-40c1-9913-e2c73f9188f6"
        },
        "id": "82ee54be",
        "outputId": "bf460ea5-1134-4345-d197-ea4da7e8d352"
      },
      "outputs": [
        {
          "data": {
            "text/plain": [
              "6"
            ]
          },
          "execution_count": 5,
          "metadata": {},
          "output_type": "execute_result"
        }
      ],
      "source": [
        "x # Expression (returns value assigned to x)"
      ]
    },
    {
      "cell_type": "markdown",
      "id": "be7a54b9",
      "metadata": {
        "id": "be7a54b9"
      },
      "source": [
        "#### Example expression - Use `type` to check a variables type"
      ]
    },
    {
      "cell_type": "code",
      "execution_count": null,
      "id": "c9743530",
      "metadata": {
        "id": "c9743530",
        "outputId": "08de5b45-0f3c-4318-d430-bdb0dff72950"
      },
      "outputs": [
        {
          "data": {
            "text/plain": [
              "int"
            ]
          },
          "execution_count": 7,
          "metadata": {},
          "output_type": "execute_result"
        }
      ],
      "source": [
        "type(x) # Expression (returns value assigned to int)"
      ]
    },
    {
      "cell_type": "markdown",
      "id": "e27b79ce",
      "metadata": {
        "nbpresent": {
          "id": "277549e7-ddfe-439c-b7dc-4e257ff97426"
        },
        "id": "e27b79ce"
      },
      "source": [
        "## Arithmetic operations"
      ]
    },
    {
      "cell_type": "code",
      "execution_count": null,
      "id": "f157e858",
      "metadata": {
        "nbpresent": {
          "id": "de77acd8-a6ab-4026-9378-05a77c73ed46"
        },
        "id": "f157e858",
        "outputId": "ef0014e2-9475-4935-cdd4-aa20a1df3973"
      },
      "outputs": [
        {
          "data": {
            "text/plain": [
              "5.5"
            ]
          },
          "execution_count": 8,
          "metadata": {},
          "output_type": "execute_result"
        }
      ],
      "source": [
        "2 + 3.5"
      ]
    },
    {
      "cell_type": "code",
      "execution_count": null,
      "id": "2c76a7db",
      "metadata": {
        "nbpresent": {
          "id": "9b572828-abc5-4f12-9f11-d444f1488019"
        },
        "id": "2c76a7db",
        "outputId": "f91a1dce-21a7-474f-959e-af5ec56d5450"
      },
      "outputs": [
        {
          "data": {
            "text/plain": [
              "-1.5"
            ]
          },
          "execution_count": 9,
          "metadata": {},
          "output_type": "execute_result"
        }
      ],
      "source": [
        "2 - 3.5"
      ]
    },
    {
      "cell_type": "code",
      "execution_count": null,
      "id": "594cdd06",
      "metadata": {
        "nbpresent": {
          "id": "f14f2894-1b57-4dec-8eaf-72364fb0ec22"
        },
        "id": "594cdd06",
        "outputId": "de5c8fe3-4a94-46dc-93bd-7718c03c0520"
      },
      "outputs": [
        {
          "data": {
            "text/plain": [
              "7.0"
            ]
          },
          "execution_count": 10,
          "metadata": {},
          "output_type": "execute_result"
        }
      ],
      "source": [
        "2*3.5"
      ]
    },
    {
      "cell_type": "code",
      "execution_count": null,
      "id": "cbdd2896",
      "metadata": {
        "nbpresent": {
          "id": "0283e446-51ff-49c6-95c1-7df0331373e8"
        },
        "id": "cbdd2896",
        "outputId": "e5344154-95da-4ee7-e3bf-cdb0f14f7260"
      },
      "outputs": [
        {
          "data": {
            "text/plain": [
              "0.6666666666666666"
            ]
          },
          "execution_count": 11,
          "metadata": {},
          "output_type": "execute_result"
        }
      ],
      "source": [
        "2/3 # True division"
      ]
    },
    {
      "cell_type": "code",
      "execution_count": null,
      "id": "17e04443",
      "metadata": {
        "nbpresent": {
          "id": "1cbfb777-d4fa-4364-8b4d-7316398849d2"
        },
        "id": "17e04443",
        "outputId": "19d80f77-2bd2-4594-fe01-bbc3cc0cd9b8"
      },
      "outputs": [
        {
          "data": {
            "text/plain": [
              "3"
            ]
          },
          "execution_count": 12,
          "metadata": {},
          "output_type": "execute_result"
        }
      ],
      "source": [
        "10//3 # Integeer division"
      ]
    },
    {
      "cell_type": "code",
      "execution_count": null,
      "id": "36bdd32f",
      "metadata": {
        "nbpresent": {
          "id": "5eb71879-541d-4d2f-8d0b-03b1936784be"
        },
        "id": "36bdd32f",
        "outputId": "02c70b34-f703-43e4-ba11-c93cd2122359"
      },
      "outputs": [
        {
          "data": {
            "text/plain": [
              "1"
            ]
          },
          "execution_count": 13,
          "metadata": {},
          "output_type": "execute_result"
        }
      ],
      "source": [
        "10 % 3 # Mod/remainder"
      ]
    },
    {
      "cell_type": "code",
      "execution_count": null,
      "id": "1948c2bd",
      "metadata": {
        "nbpresent": {
          "id": "d2f5f5a1-1f01-4036-8bdb-c9dd4f3a6999"
        },
        "id": "1948c2bd",
        "outputId": "b0950efa-8fc5-4a57-9dc0-e379b93b0793"
      },
      "outputs": [
        {
          "data": {
            "text/plain": [
              "8"
            ]
          },
          "execution_count": 14,
          "metadata": {},
          "output_type": "execute_result"
        }
      ],
      "source": [
        "2 ** 3 # Powers!"
      ]
    },
    {
      "cell_type": "code",
      "execution_count": null,
      "id": "cccfb0ed",
      "metadata": {
        "nbpresent": {
          "id": "f79150cf-6794-48bb-b703-eb963b40cc06"
        },
        "id": "cccfb0ed",
        "outputId": "2f7e238c-7f0d-4324-ea40-9baeeca16b27"
      },
      "outputs": [
        {
          "data": {
            "text/plain": [
              "1"
            ]
          },
          "execution_count": 15,
          "metadata": {},
          "output_type": "execute_result"
        }
      ],
      "source": [
        "2 ^ 3 # BEWARE: bitwise exclusive or"
      ]
    },
    {
      "cell_type": "markdown",
      "id": "e4446382",
      "metadata": {
        "id": "e4446382"
      },
      "source": [
        "<font color=\"red\"><h2>Exercise 5.1.2 </h2></font>\n",
        "\n",
        "The hour hand is pointing at 8, what will it point to in 57 hours?"
      ]
    },
    {
      "cell_type": "code",
      "execution_count": null,
      "id": "c4a6a3a7",
      "metadata": {
        "id": "c4a6a3a7"
      },
      "outputs": [],
      "source": [
        "#Your code here"
      ]
    },
    {
      "cell_type": "markdown",
      "id": "839afd12",
      "metadata": {
        "nbpresent": {
          "id": "a9702cc1-1da0-4d6b-8198-835ac55fd9eb"
        },
        "id": "839afd12"
      },
      "source": [
        "### <font color=\"red\"> Exercise 5.1.3</font>\n",
        "Investigate which operations can be applied to two strings, say `\"a\"` and `\"b\"`.\n"
      ]
    },
    {
      "cell_type": "code",
      "execution_count": null,
      "id": "6f0ffcf5",
      "metadata": {
        "collapsed": true,
        "nbpresent": {
          "id": "78a2f194-f4ff-466a-8921-7012b6d551b0"
        },
        "id": "6f0ffcf5"
      },
      "outputs": [],
      "source": [
        "# Your code here"
      ]
    },
    {
      "cell_type": "markdown",
      "id": "8e7de5b2",
      "metadata": {
        "nbpresent": {
          "id": "2812ca09-3cd1-43c1-aefd-05fbea612c57"
        },
        "id": "8e7de5b2"
      },
      "source": [
        "### <font color=\"red\"> Exercise 5.1.4 </font>\n",
        "\n",
        "Investigate various operations on `2` and `\"a\"`"
      ]
    },
    {
      "cell_type": "code",
      "execution_count": null,
      "id": "c07fa59e",
      "metadata": {
        "collapsed": true,
        "nbpresent": {
          "id": "78a2f194-f4ff-466a-8921-7012b6d551b0"
        },
        "id": "c07fa59e"
      },
      "outputs": [],
      "source": [
        "# Your code here"
      ]
    },
    {
      "cell_type": "markdown",
      "id": "172a0339",
      "metadata": {
        "nbpresent": {
          "id": "451809fa-bae8-406f-8485-e14666da2f9c"
        },
        "id": "172a0339"
      },
      "source": [
        "## Boolean operations\n",
        "\n",
        "- **Boolean expressions** evaluate to True or False\n",
        "- **Boolean operations** answer Yes/No questions"
      ]
    },
    {
      "cell_type": "markdown",
      "id": "e19020f4",
      "metadata": {
        "nbpresent": {
          "id": "a7d93c7f-e613-436d-8ea2-f8eabf37aca1"
        },
        "id": "e19020f4"
      },
      "source": [
        "## Comparison operators"
      ]
    },
    {
      "cell_type": "code",
      "execution_count": null,
      "id": "149823f2",
      "metadata": {
        "nbpresent": {
          "id": "9ba65652-2b58-4adc-bb1b-ca556743e198"
        },
        "id": "149823f2",
        "outputId": "a6674979-30a7-44d2-eb90-9e5bd210e778"
      },
      "outputs": [
        {
          "data": {
            "text/plain": [
              "False"
            ]
          },
          "execution_count": 28,
          "metadata": {},
          "output_type": "execute_result"
        }
      ],
      "source": [
        "2 == 3"
      ]
    },
    {
      "cell_type": "code",
      "execution_count": null,
      "id": "98e4cf68",
      "metadata": {
        "nbpresent": {
          "id": "9ba65652-2b58-4adc-bb1b-ca556743e198"
        },
        "id": "98e4cf68",
        "outputId": "ef40a0b6-5fff-4efb-817e-982f19b483f0"
      },
      "outputs": [
        {
          "data": {
            "text/plain": [
              "True"
            ]
          },
          "execution_count": 29,
          "metadata": {},
          "output_type": "execute_result"
        }
      ],
      "source": [
        " 2 < 3"
      ]
    },
    {
      "cell_type": "code",
      "execution_count": null,
      "id": "1703d562",
      "metadata": {
        "nbpresent": {
          "id": "9ba65652-2b58-4adc-bb1b-ca556743e198"
        },
        "id": "1703d562",
        "outputId": "7c7bfe11-1378-4366-e3f9-475b5351a277"
      },
      "outputs": [
        {
          "data": {
            "text/plain": [
              "True"
            ]
          },
          "execution_count": 30,
          "metadata": {},
          "output_type": "execute_result"
        }
      ],
      "source": [
        " 2 <= 3"
      ]
    },
    {
      "cell_type": "code",
      "execution_count": null,
      "id": "73808ab0",
      "metadata": {
        "nbpresent": {
          "id": "9ba65652-2b58-4adc-bb1b-ca556743e198"
        },
        "id": "73808ab0",
        "outputId": "3ae00b40-282f-41bf-afb7-3c9080df2158"
      },
      "outputs": [
        {
          "data": {
            "text/plain": [
              "True"
            ]
          },
          "execution_count": 31,
          "metadata": {},
          "output_type": "execute_result"
        }
      ],
      "source": [
        " 2 != 3"
      ]
    },
    {
      "cell_type": "markdown",
      "id": "1aa16cb6",
      "metadata": {
        "nbpresent": {
          "id": "f2db4d92-a6dc-4ce4-973b-623addee60f5"
        },
        "id": "1aa16cb6"
      },
      "source": [
        "## Container operations"
      ]
    },
    {
      "cell_type": "code",
      "execution_count": null,
      "id": "7619316b",
      "metadata": {
        "nbpresent": {
          "id": "cc07079e-46cf-4b24-8240-0c8f356cf384"
        },
        "id": "7619316b",
        "outputId": "6d0c6803-aa38-4b91-ed8e-dc3094a379e2"
      },
      "outputs": [
        {
          "data": {
            "text/plain": [
              "True"
            ]
          },
          "execution_count": 32,
          "metadata": {},
          "output_type": "execute_result"
        }
      ],
      "source": [
        "2 in [1,2,3]"
      ]
    },
    {
      "cell_type": "code",
      "execution_count": null,
      "id": "b9266973",
      "metadata": {
        "nbpresent": {
          "id": "98dc4cf4-0de9-45ac-8056-a6bb98506321"
        },
        "id": "b9266973",
        "outputId": "64e99258-5e9e-4dcf-eb40-c5f8ba98a5a0"
      },
      "outputs": [
        {
          "data": {
            "text/plain": [
              "False"
            ]
          },
          "execution_count": 33,
          "metadata": {},
          "output_type": "execute_result"
        }
      ],
      "source": [
        "\"a\" in \"Todd\""
      ]
    },
    {
      "cell_type": "code",
      "execution_count": null,
      "id": "a1a92d50",
      "metadata": {
        "nbpresent": {
          "id": "de82634e-c310-4316-8db0-1bef201414b6"
        },
        "id": "a1a92d50",
        "outputId": "99f57418-ca0f-4a7d-e413-964da5dc9809"
      },
      "outputs": [
        {
          "data": {
            "text/plain": [
              "True"
            ]
          },
          "execution_count": 34,
          "metadata": {},
          "output_type": "execute_result"
        }
      ],
      "source": [
        "\"t\" not in \"Todd\""
      ]
    },
    {
      "cell_type": "code",
      "execution_count": null,
      "id": "3b026741",
      "metadata": {
        "nbpresent": {
          "id": "b23fc6af-c8e8-4f21-bfc3-64448f3d209d"
        },
        "scrolled": true,
        "id": "3b026741",
        "outputId": "27b8e363-f5fe-4c11-8e37-566c4e3a3d64"
      },
      "outputs": [
        {
          "data": {
            "text/plain": [
              "False"
            ]
          },
          "execution_count": 35,
          "metadata": {},
          "output_type": "execute_result"
        }
      ],
      "source": [
        "2 in [1, [2, 3]]"
      ]
    },
    {
      "cell_type": "markdown",
      "id": "0f07a549",
      "metadata": {
        "nbpresent": {
          "id": "a9702cc1-1da0-4d6b-8198-835ac55fd9eb"
        },
        "id": "0f07a549"
      },
      "source": [
        "### <font color=\"red\"> Exercise 5.1.5</font>\n",
        "\n",
        "Why does `2 in [1, [2, 3]]` to `False`?\n"
      ]
    },
    {
      "cell_type": "markdown",
      "id": "9b6f2b24",
      "metadata": {
        "id": "9b6f2b24"
      },
      "source": [
        "> Your answer here."
      ]
    },
    {
      "cell_type": "markdown",
      "id": "11acd19c",
      "metadata": {
        "nbpresent": {
          "id": "8fb5d98c-6b7c-4ffb-8c28-ac5f7a055f1a"
        },
        "id": "11acd19c"
      },
      "source": [
        "## Combining boolean expressions\n",
        "\n",
        "- Use `and`, `or`, and `not`"
      ]
    },
    {
      "cell_type": "code",
      "execution_count": null,
      "id": "8d6847da",
      "metadata": {
        "nbpresent": {
          "id": "5b47746d-6823-4b18-bd0a-e87df90e01e7"
        },
        "id": "8d6847da",
        "outputId": "4d763737-c41d-4b78-b24f-3bc915aa453f"
      },
      "outputs": [
        {
          "data": {
            "text/plain": [
              "False"
            ]
          },
          "execution_count": 36,
          "metadata": {},
          "output_type": "execute_result"
        }
      ],
      "source": [
        "x, name = 5, \"Todd\"\n",
        "x % 2 == 1 and \"a\" in \"Todd\""
      ]
    },
    {
      "cell_type": "code",
      "execution_count": null,
      "id": "18ce2680",
      "metadata": {
        "nbpresent": {
          "id": "298c54dc-9124-4201-beef-67b6d98b4633"
        },
        "id": "18ce2680",
        "outputId": "7849c390-3f7b-4e35-b167-addc3280bc8a"
      },
      "outputs": [
        {
          "data": {
            "text/plain": [
              "True"
            ]
          },
          "execution_count": 37,
          "metadata": {},
          "output_type": "execute_result"
        }
      ],
      "source": [
        "x % 2 == 1 or \"a\" in \"Todd\""
      ]
    },
    {
      "cell_type": "code",
      "execution_count": null,
      "id": "eb8297ff",
      "metadata": {
        "nbpresent": {
          "id": "ae43d805-5f59-4823-bbde-cb86bae63461"
        },
        "id": "eb8297ff",
        "outputId": "a031af00-f2a0-4d8f-e8e5-124c463722d2"
      },
      "outputs": [
        {
          "data": {
            "text/plain": [
              "False"
            ]
          },
          "execution_count": 38,
          "metadata": {},
          "output_type": "execute_result"
        }
      ],
      "source": [
        "not 2 < 3"
      ]
    },
    {
      "cell_type": "markdown",
      "id": "f8563e7f",
      "metadata": {
        "id": "f8563e7f"
      },
      "source": [
        "## Conditional Expression\n",
        "\n",
        "Syntax:\n",
        "\n",
        "```{python}\n",
        "true_val if boolean_condition else false_value\n",
        "```"
      ]
    },
    {
      "cell_type": "code",
      "execution_count": null,
      "id": "8c77c34c",
      "metadata": {
        "id": "8c77c34c",
        "outputId": "615eec05-2fe2-49b4-d1f1-68f351670052"
      },
      "outputs": [
        {
          "data": {
            "text/plain": [
              "'No t'"
            ]
          },
          "execution_count": 39,
          "metadata": {},
          "output_type": "execute_result"
        }
      ],
      "source": [
        "\"Has t\" if \"t\" in \"Todd\" else \"No t\""
      ]
    },
    {
      "cell_type": "markdown",
      "id": "eab550c2",
      "metadata": {
        "id": "eab550c2"
      },
      "source": [
        "## Evaluating the conditional expression\n",
        "\n",
        "<img src=\"https://github.com/AKerby/dsci325_module5_intro_to_python/blob/main/img/cond_expr_1.png?raw=1\" width=400 />"
      ]
    },
    {
      "cell_type": "markdown",
      "id": "934ee303",
      "metadata": {
        "nbpresent": {
          "id": "a9702cc1-1da0-4d6b-8198-835ac55fd9eb"
        },
        "id": "934ee303"
      },
      "source": [
        "## <font color=\"red\"> Exercise 5.1.6 </font>\n",
        "\n",
        "Evaluate `\"Yes\" if (5 <= x < 10) and (x % 2 == 1) else \"No\"` for the current value of `x`\n",
        "\n",
        "1. By hand\n",
        "2. With Python\n"
      ]
    },
    {
      "cell_type": "code",
      "execution_count": null,
      "id": "e3b040b5",
      "metadata": {
        "id": "e3b040b5"
      },
      "outputs": [],
      "source": [
        "# Evaluate x to see the current value"
      ]
    },
    {
      "cell_type": "markdown",
      "id": "3b53d2fc",
      "metadata": {
        "id": "3b53d2fc"
      },
      "source": [
        "> Evaluate by hand here, working inside-out"
      ]
    },
    {
      "cell_type": "code",
      "execution_count": null,
      "id": "81d2ea74",
      "metadata": {
        "id": "81d2ea74",
        "outputId": "827c12c6-becf-4286-c16c-026078e7f8b5"
      },
      "outputs": [
        {
          "data": {
            "text/plain": [
              "'Your code here'"
            ]
          },
          "execution_count": 41,
          "metadata": {},
          "output_type": "execute_result"
        }
      ],
      "source": [
        "# Evaluate with Python\n",
        "\"Your code here\""
      ]
    }
  ],
  "metadata": {
    "anaconda-cloud": {},
    "kernelspec": {
      "display_name": "Python 3 (ipykernel)",
      "language": "python",
      "name": "python3"
    },
    "language_info": {
      "codemirror_mode": {
        "name": "ipython",
        "version": 3
      },
      "file_extension": ".py",
      "mimetype": "text/x-python",
      "name": "python",
      "nbconvert_exporter": "python",
      "pygments_lexer": "ipython3",
      "version": "3.9.12"
    },
    "colab": {
      "provenance": [],
      "include_colab_link": true
    }
  },
  "nbformat": 4,
  "nbformat_minor": 5
}