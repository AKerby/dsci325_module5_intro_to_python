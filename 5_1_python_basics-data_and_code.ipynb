{
 "cells": [
  {
   "cell_type": "markdown",
   "id": "cda8e826",
   "metadata": {},
   "source": [
    "# Module 5.1 - Python Basics: Data, Types, Expressions, and Statements\n",
    "\n",
    "In this section, we will cover the basic building block of Python code, namely\n",
    "\n",
    "* **Part 1.** Python data and types\n",
    "* **Part 2.** Expressions and statements"
   ]
  },
  {
   "cell_type": "markdown",
   "id": "7d21842d",
   "metadata": {
    "slideshow": {
     "slide_type": "slide"
    }
   },
   "source": [
    "## Python data\n",
    "\n",
    "* All data have a *type* and *value*\n",
    "    * *type* is based off the underlying class\n",
    "    * *value* is returned by the Python interpreter\n",
    "* We can use the `type` function to discover data classes/types"
   ]
  },
  {
   "cell_type": "markdown",
   "id": "88f66576",
   "metadata": {
    "slideshow": {
     "slide_type": "slide"
    }
   },
   "source": [
    "#### Value and type of `\"Hello World\"`"
   ]
  },
  {
   "cell_type": "code",
   "execution_count": 1,
   "id": "a4db2ef7",
   "metadata": {
    "slideshow": {
     "slide_type": "fragment"
    }
   },
   "outputs": [
    {
     "data": {
      "text/plain": [
       "'Hello World'"
      ]
     },
     "execution_count": 1,
     "metadata": {},
     "output_type": "execute_result"
    }
   ],
   "source": [
    "\"Hello World\""
   ]
  },
  {
   "cell_type": "code",
   "execution_count": 2,
   "id": "451d6105",
   "metadata": {
    "slideshow": {
     "slide_type": "fragment"
    }
   },
   "outputs": [
    {
     "data": {
      "text/plain": [
       "str"
      ]
     },
     "execution_count": 2,
     "metadata": {},
     "output_type": "execute_result"
    }
   ],
   "source": [
    "type(\"Hello World\")"
   ]
  },
  {
   "cell_type": "markdown",
   "id": "f179152b",
   "metadata": {
    "slideshow": {
     "slide_type": "slide"
    }
   },
   "source": [
    "#### Value and type of `17`"
   ]
  },
  {
   "cell_type": "code",
   "execution_count": 28,
   "id": "0717be4e",
   "metadata": {
    "scrolled": true,
    "slideshow": {
     "slide_type": "slide"
    }
   },
   "outputs": [
    {
     "data": {
      "text/plain": [
       "17"
      ]
     },
     "execution_count": 28,
     "metadata": {},
     "output_type": "execute_result"
    }
   ],
   "source": [
    "17"
   ]
  },
  {
   "cell_type": "code",
   "execution_count": 29,
   "id": "b5e70204",
   "metadata": {
    "scrolled": false,
    "slideshow": {
     "slide_type": "fragment"
    }
   },
   "outputs": [
    {
     "data": {
      "text/plain": [
       "int"
      ]
     },
     "execution_count": 29,
     "metadata": {},
     "output_type": "execute_result"
    }
   ],
   "source": [
    "type(17)"
   ]
  },
  {
   "cell_type": "markdown",
   "id": "0bd619f0",
   "metadata": {
    "slideshow": {
     "slide_type": "slide"
    }
   },
   "source": [
    "#### Value and type of `17.0`"
   ]
  },
  {
   "cell_type": "code",
   "execution_count": 28,
   "id": "c967bc47",
   "metadata": {
    "scrolled": true,
    "slideshow": {
     "slide_type": "slide"
    }
   },
   "outputs": [
    {
     "data": {
      "text/plain": [
       "17"
      ]
     },
     "execution_count": 28,
     "metadata": {},
     "output_type": "execute_result"
    }
   ],
   "source": [
    "17.0"
   ]
  },
  {
   "cell_type": "code",
   "execution_count": 29,
   "id": "3671b203",
   "metadata": {
    "scrolled": false,
    "slideshow": {
     "slide_type": "fragment"
    }
   },
   "outputs": [
    {
     "data": {
      "text/plain": [
       "int"
      ]
     },
     "execution_count": 29,
     "metadata": {},
     "output_type": "execute_result"
    }
   ],
   "source": [
    "type(17.0)"
   ]
  },
  {
   "cell_type": "markdown",
   "id": "cc5321ad",
   "metadata": {
    "slideshow": {
     "slide_type": "slide"
    }
   },
   "source": [
    "## <font color=\"red\"> Exercise 5.1.1 </font>\n",
    "\n",
    "Investigate the type and value of the following code and explain any differences.\n",
    "\n",
    "* 2 + 17\n",
    "* 2 + 17.0"
   ]
  },
  {
   "cell_type": "code",
   "execution_count": 7,
   "id": "08243520",
   "metadata": {
    "scrolled": false,
    "slideshow": {
     "slide_type": "fragment"
    }
   },
   "outputs": [],
   "source": [
    "# Your code here"
   ]
  },
  {
   "cell_type": "markdown",
   "id": "cbf5ee2e",
   "metadata": {},
   "source": [
    "> Your explanation here."
   ]
  },
  {
   "cell_type": "markdown",
   "id": "8d49acac",
   "metadata": {
    "slideshow": {
     "slide_type": "slide"
    }
   },
   "source": [
    "## Other basic types\n",
    "\n",
    "* **Boolean** represent truth using `True` and `False`\n",
    "* **NoneType** use `None` to represent empty/missing/nothing"
   ]
  },
  {
   "cell_type": "code",
   "execution_count": 36,
   "id": "a172350b",
   "metadata": {
    "slideshow": {
     "slide_type": "slide"
    }
   },
   "outputs": [
    {
     "data": {
      "text/plain": [
       "True"
      ]
     },
     "execution_count": 36,
     "metadata": {},
     "output_type": "execute_result"
    }
   ],
   "source": [
    "True"
   ]
  },
  {
   "cell_type": "code",
   "execution_count": 37,
   "id": "4cad01ac",
   "metadata": {
    "slideshow": {
     "slide_type": "fragment"
    }
   },
   "outputs": [
    {
     "data": {
      "text/plain": [
       "bool"
      ]
     },
     "execution_count": 37,
     "metadata": {},
     "output_type": "execute_result"
    }
   ],
   "source": [
    "type(True)"
   ]
  },
  {
   "cell_type": "code",
   "execution_count": 38,
   "id": "a56ff1b7",
   "metadata": {
    "slideshow": {
     "slide_type": "slide"
    }
   },
   "outputs": [
    {
     "data": {
      "text/plain": [
       "False"
      ]
     },
     "execution_count": 38,
     "metadata": {},
     "output_type": "execute_result"
    }
   ],
   "source": [
    "False"
   ]
  },
  {
   "cell_type": "code",
   "execution_count": 39,
   "id": "f215b33e",
   "metadata": {
    "slideshow": {
     "slide_type": "fragment"
    }
   },
   "outputs": [
    {
     "data": {
      "text/plain": [
       "bool"
      ]
     },
     "execution_count": 39,
     "metadata": {},
     "output_type": "execute_result"
    }
   ],
   "source": [
    "type(False)"
   ]
  },
  {
   "cell_type": "code",
   "execution_count": 40,
   "id": "4ffe551d",
   "metadata": {
    "slideshow": {
     "slide_type": "slide"
    }
   },
   "outputs": [],
   "source": [
    "None"
   ]
  },
  {
   "cell_type": "code",
   "execution_count": 41,
   "id": "c093e3d2",
   "metadata": {
    "slideshow": {
     "slide_type": "fragment"
    }
   },
   "outputs": [
    {
     "data": {
      "text/plain": [
       "NoneType"
      ]
     },
     "execution_count": 41,
     "metadata": {},
     "output_type": "execute_result"
    }
   ],
   "source": [
    "type(None)"
   ]
  },
  {
   "cell_type": "markdown",
   "id": "3418ac53",
   "metadata": {
    "slideshow": {
     "slide_type": "slide"
    }
   },
   "source": [
    "## Collection types\n",
    "\n",
    "Python comes with nice collection types\n",
    "\n",
    "* `list` and `tuple` for sequences of data\n",
    "* `dict` for mapping/translation\n",
    "* `set` for representing groupings and checking membership"
   ]
  },
  {
   "cell_type": "markdown",
   "id": "0ff64ab3",
   "metadata": {},
   "source": [
    "#### `list` - a mutable sequence/array"
   ]
  },
  {
   "cell_type": "code",
   "execution_count": 8,
   "id": "e586479a",
   "metadata": {
    "slideshow": {
     "slide_type": "fragment"
    }
   },
   "outputs": [
    {
     "data": {
      "text/plain": [
       "[1, 2, 3]"
      ]
     },
     "execution_count": 8,
     "metadata": {},
     "output_type": "execute_result"
    }
   ],
   "source": [
    "[1,2,3] # Surround a list with [ ... ]"
   ]
  },
  {
   "cell_type": "code",
   "execution_count": 9,
   "id": "62fffdcc",
   "metadata": {
    "slideshow": {
     "slide_type": "fragment"
    }
   },
   "outputs": [
    {
     "data": {
      "text/plain": [
       "list"
      ]
     },
     "execution_count": 9,
     "metadata": {},
     "output_type": "execute_result"
    }
   ],
   "source": [
    "type([1,2,3])"
   ]
  },
  {
   "cell_type": "markdown",
   "id": "9cbd5b5f",
   "metadata": {},
   "source": [
    "#### `tuple` - a mutable sequence/array"
   ]
  },
  {
   "cell_type": "code",
   "execution_count": 10,
   "id": "6bf0e72f",
   "metadata": {
    "slideshow": {
     "slide_type": "fragment"
    }
   },
   "outputs": [
    {
     "data": {
      "text/plain": [
       "(1, 2, 3)"
      ]
     },
     "execution_count": 10,
     "metadata": {},
     "output_type": "execute_result"
    }
   ],
   "source": [
    "(1,2,3) # Surround with ( v1, ... ) - Must have at least one comma"
   ]
  },
  {
   "cell_type": "code",
   "execution_count": 11,
   "id": "f89bc7ba",
   "metadata": {
    "slideshow": {
     "slide_type": "fragment"
    }
   },
   "outputs": [
    {
     "data": {
      "text/plain": [
       "tuple"
      ]
     },
     "execution_count": 11,
     "metadata": {},
     "output_type": "execute_result"
    }
   ],
   "source": [
    "type((1,2,3))"
   ]
  },
  {
   "cell_type": "markdown",
   "id": "fd8c273f",
   "metadata": {},
   "source": [
    "#### `dict` - an associative map"
   ]
  },
  {
   "cell_type": "code",
   "execution_count": 12,
   "id": "179ef370",
   "metadata": {
    "slideshow": {
     "slide_type": "slide"
    }
   },
   "outputs": [
    {
     "data": {
      "text/plain": [
       "{'one': 1, 'two': 2, 'three': 3}"
      ]
     },
     "execution_count": 12,
     "metadata": {},
     "output_type": "execute_result"
    }
   ],
   "source": [
    "{\"one\":1, \"two\":2, \"three\":3} # Use {k1:v1, k2,v2, ... } - Needs pairs separated by :"
   ]
  },
  {
   "cell_type": "code",
   "execution_count": 13,
   "id": "f9713ef1",
   "metadata": {
    "slideshow": {
     "slide_type": "slide"
    }
   },
   "outputs": [
    {
     "data": {
      "text/plain": [
       "dict"
      ]
     },
     "execution_count": 13,
     "metadata": {},
     "output_type": "execute_result"
    }
   ],
   "source": [
    "type({\"one\":1, \"two\":2, \"three\":3})"
   ]
  },
  {
   "cell_type": "markdown",
   "id": "0e30f0bf",
   "metadata": {},
   "source": [
    "#### `set` - Unordered collection of unique values"
   ]
  },
  {
   "cell_type": "code",
   "execution_count": 14,
   "id": "f8ce25a3",
   "metadata": {
    "slideshow": {
     "slide_type": "fragment"
    }
   },
   "outputs": [
    {
     "data": {
      "text/plain": [
       "{1, 2, 3}"
      ]
     },
     "execution_count": 14,
     "metadata": {},
     "output_type": "execute_result"
    }
   ],
   "source": [
    "{1,2,3} # Use {v1, v2, ..}"
   ]
  },
  {
   "cell_type": "code",
   "execution_count": 15,
   "id": "4e1bf61c",
   "metadata": {
    "slideshow": {
     "slide_type": "fragment"
    }
   },
   "outputs": [
    {
     "data": {
      "text/plain": [
       "set"
      ]
     },
     "execution_count": 15,
     "metadata": {},
     "output_type": "execute_result"
    }
   ],
   "source": [
    "type({1,2,3})"
   ]
  },
  {
   "cell_type": "markdown",
   "id": "c4127044",
   "metadata": {
    "nbpresent": {
     "id": "d6ce38da-dd5e-49ae-96d9-a13b7c588c7f"
    },
    "slideshow": {
     "slide_type": "slide"
    }
   },
   "source": [
    "## Expressions and Statements\n",
    "\n",
    "Two types of Python code\n",
    "* **statements** \"Do this\"\n",
    "    * Does not return/evaluate to a value\n",
    "    * Often contain expressions\n",
    "* **expressions** \"Compute this value\"\n",
    "    * Always returns data\n",
    "* I prefer expressions"
   ]
  },
  {
   "cell_type": "markdown",
   "id": "642799e6",
   "metadata": {},
   "source": [
    "#### Example expression - Compute a sum of a list of values"
   ]
  },
  {
   "cell_type": "code",
   "execution_count": 2,
   "id": "906fc333",
   "metadata": {
    "nbpresent": {
     "id": "3394c082-f660-4228-8b52-a46f2e9c02de"
    },
    "slideshow": {
     "slide_type": "slide"
    }
   },
   "outputs": [
    {
     "data": {
      "text/plain": [
       "6"
      ]
     },
     "execution_count": 2,
     "metadata": {},
     "output_type": "execute_result"
    }
   ],
   "source": [
    "sum([1,2,3]) # expression (returns 6)"
   ]
  },
  {
   "cell_type": "markdown",
   "id": "3994e718",
   "metadata": {},
   "source": [
    "#### Example statement - Assign a value to a variable"
   ]
  },
  {
   "cell_type": "code",
   "execution_count": 4,
   "id": "53701682",
   "metadata": {
    "nbpresent": {
     "id": "348801b9-66cf-4248-81c6-32b52ca127e8"
    },
    "slideshow": {
     "slide_type": "fragment"
    }
   },
   "outputs": [],
   "source": [
    "x = sum([1,2,3]) # assignment statement (no value)"
   ]
  },
  {
   "cell_type": "markdown",
   "id": "1582bf73",
   "metadata": {},
   "source": [
    "#### Example expression - Evaluate a variable to see it's value"
   ]
  },
  {
   "cell_type": "code",
   "execution_count": 5,
   "id": "82ee54be",
   "metadata": {
    "nbpresent": {
     "id": "5b62bd9c-ca01-40c1-9913-e2c73f9188f6"
    },
    "slideshow": {
     "slide_type": "fragment"
    }
   },
   "outputs": [
    {
     "data": {
      "text/plain": [
       "6"
      ]
     },
     "execution_count": 5,
     "metadata": {},
     "output_type": "execute_result"
    }
   ],
   "source": [
    "x # Expression (returns value assigned to x)"
   ]
  },
  {
   "cell_type": "markdown",
   "id": "be7a54b9",
   "metadata": {},
   "source": [
    "#### Example expression - Use `type` to check a variables type"
   ]
  },
  {
   "cell_type": "code",
   "execution_count": 7,
   "id": "c9743530",
   "metadata": {},
   "outputs": [
    {
     "data": {
      "text/plain": [
       "int"
      ]
     },
     "execution_count": 7,
     "metadata": {},
     "output_type": "execute_result"
    }
   ],
   "source": [
    "type(x) # Expression (returns value assigned to int)"
   ]
  },
  {
   "cell_type": "markdown",
   "id": "e27b79ce",
   "metadata": {
    "nbpresent": {
     "id": "277549e7-ddfe-439c-b7dc-4e257ff97426"
    },
    "slideshow": {
     "slide_type": "slide"
    }
   },
   "source": [
    "## Arithmetic operations"
   ]
  },
  {
   "cell_type": "code",
   "execution_count": 8,
   "id": "f157e858",
   "metadata": {
    "nbpresent": {
     "id": "de77acd8-a6ab-4026-9378-05a77c73ed46"
    },
    "slideshow": {
     "slide_type": "fragment"
    }
   },
   "outputs": [
    {
     "data": {
      "text/plain": [
       "5.5"
      ]
     },
     "execution_count": 8,
     "metadata": {},
     "output_type": "execute_result"
    }
   ],
   "source": [
    "2 + 3.5"
   ]
  },
  {
   "cell_type": "code",
   "execution_count": 9,
   "id": "2c76a7db",
   "metadata": {
    "nbpresent": {
     "id": "9b572828-abc5-4f12-9f11-d444f1488019"
    },
    "slideshow": {
     "slide_type": "fragment"
    }
   },
   "outputs": [
    {
     "data": {
      "text/plain": [
       "-1.5"
      ]
     },
     "execution_count": 9,
     "metadata": {},
     "output_type": "execute_result"
    }
   ],
   "source": [
    "2 - 3.5 "
   ]
  },
  {
   "cell_type": "code",
   "execution_count": 10,
   "id": "594cdd06",
   "metadata": {
    "nbpresent": {
     "id": "f14f2894-1b57-4dec-8eaf-72364fb0ec22"
    },
    "slideshow": {
     "slide_type": "fragment"
    }
   },
   "outputs": [
    {
     "data": {
      "text/plain": [
       "7.0"
      ]
     },
     "execution_count": 10,
     "metadata": {},
     "output_type": "execute_result"
    }
   ],
   "source": [
    "2*3.5"
   ]
  },
  {
   "cell_type": "code",
   "execution_count": 11,
   "id": "cbdd2896",
   "metadata": {
    "nbpresent": {
     "id": "0283e446-51ff-49c6-95c1-7df0331373e8"
    },
    "slideshow": {
     "slide_type": "slide"
    }
   },
   "outputs": [
    {
     "data": {
      "text/plain": [
       "0.6666666666666666"
      ]
     },
     "execution_count": 11,
     "metadata": {},
     "output_type": "execute_result"
    }
   ],
   "source": [
    "2/3 # True division"
   ]
  },
  {
   "cell_type": "code",
   "execution_count": 12,
   "id": "17e04443",
   "metadata": {
    "nbpresent": {
     "id": "1cbfb777-d4fa-4364-8b4d-7316398849d2"
    },
    "slideshow": {
     "slide_type": "fragment"
    }
   },
   "outputs": [
    {
     "data": {
      "text/plain": [
       "3"
      ]
     },
     "execution_count": 12,
     "metadata": {},
     "output_type": "execute_result"
    }
   ],
   "source": [
    "10//3 # Integeer division"
   ]
  },
  {
   "cell_type": "code",
   "execution_count": 13,
   "id": "36bdd32f",
   "metadata": {
    "nbpresent": {
     "id": "5eb71879-541d-4d2f-8d0b-03b1936784be"
    },
    "slideshow": {
     "slide_type": "fragment"
    }
   },
   "outputs": [
    {
     "data": {
      "text/plain": [
       "1"
      ]
     },
     "execution_count": 13,
     "metadata": {},
     "output_type": "execute_result"
    }
   ],
   "source": [
    "10 % 3 # Mod/remainder"
   ]
  },
  {
   "cell_type": "code",
   "execution_count": 14,
   "id": "1948c2bd",
   "metadata": {
    "nbpresent": {
     "id": "d2f5f5a1-1f01-4036-8bdb-c9dd4f3a6999"
    },
    "slideshow": {
     "slide_type": "slide"
    }
   },
   "outputs": [
    {
     "data": {
      "text/plain": [
       "8"
      ]
     },
     "execution_count": 14,
     "metadata": {},
     "output_type": "execute_result"
    }
   ],
   "source": [
    "2 ** 3 # Powers!"
   ]
  },
  {
   "cell_type": "code",
   "execution_count": 15,
   "id": "cccfb0ed",
   "metadata": {
    "nbpresent": {
     "id": "f79150cf-6794-48bb-b703-eb963b40cc06"
    },
    "slideshow": {
     "slide_type": "fragment"
    }
   },
   "outputs": [
    {
     "data": {
      "text/plain": [
       "1"
      ]
     },
     "execution_count": 15,
     "metadata": {},
     "output_type": "execute_result"
    }
   ],
   "source": [
    "2 ^ 3 # BEWARE: bitwise exclusive or"
   ]
  },
  {
   "cell_type": "markdown",
   "id": "e4446382",
   "metadata": {
    "slideshow": {
     "slide_type": "slide"
    }
   },
   "source": [
    "<font color=\"red\"><h2>Exercise 5.1.2 </h2></font>\n",
    "\n",
    "The hour hand is pointing at 8, what will it point to in 57 hours?"
   ]
  },
  {
   "cell_type": "code",
   "execution_count": 17,
   "id": "c4a6a3a7",
   "metadata": {
    "slideshow": {
     "slide_type": "fragment"
    }
   },
   "outputs": [],
   "source": [
    "#Your code here"
   ]
  },
  {
   "cell_type": "markdown",
   "id": "839afd12",
   "metadata": {
    "nbpresent": {
     "id": "a9702cc1-1da0-4d6b-8198-835ac55fd9eb"
    },
    "slideshow": {
     "slide_type": "slide"
    }
   },
   "source": [
    "### <font color=\"red\"> Exercise 5.1.3</font>\n",
    "Investigate which operations can be applied to two strings, say `\"a\"` and `\"b\"`.\n"
   ]
  },
  {
   "cell_type": "code",
   "execution_count": null,
   "id": "6f0ffcf5",
   "metadata": {
    "collapsed": true,
    "nbpresent": {
     "id": "78a2f194-f4ff-466a-8921-7012b6d551b0"
    },
    "slideshow": {
     "slide_type": "fragment"
    }
   },
   "outputs": [],
   "source": [
    "# Your code here"
   ]
  },
  {
   "cell_type": "markdown",
   "id": "8e7de5b2",
   "metadata": {
    "nbpresent": {
     "id": "2812ca09-3cd1-43c1-aefd-05fbea612c57"
    },
    "slideshow": {
     "slide_type": "slide"
    }
   },
   "source": [
    "### <font color=\"red\"> Exercise 5.1.4 </font>\n",
    "\n",
    "Investigate various operations on `2` and `\"a\"`"
   ]
  },
  {
   "cell_type": "code",
   "execution_count": null,
   "id": "c07fa59e",
   "metadata": {
    "collapsed": true,
    "nbpresent": {
     "id": "78a2f194-f4ff-466a-8921-7012b6d551b0"
    },
    "slideshow": {
     "slide_type": "fragment"
    }
   },
   "outputs": [],
   "source": [
    "# Your code here"
   ]
  },
  {
   "cell_type": "markdown",
   "id": "172a0339",
   "metadata": {
    "nbpresent": {
     "id": "451809fa-bae8-406f-8485-e14666da2f9c"
    },
    "slideshow": {
     "slide_type": "slide"
    }
   },
   "source": [
    "## Boolean operations\n",
    "\n",
    "- **Boolean expressions** evaluate to True or False\n",
    "- **Boolean operations** answer Yes/No questions"
   ]
  },
  {
   "cell_type": "markdown",
   "id": "e19020f4",
   "metadata": {
    "nbpresent": {
     "id": "a7d93c7f-e613-436d-8ea2-f8eabf37aca1"
    },
    "slideshow": {
     "slide_type": "slide"
    }
   },
   "source": [
    "## Comparison operators"
   ]
  },
  {
   "cell_type": "code",
   "execution_count": 28,
   "id": "149823f2",
   "metadata": {
    "nbpresent": {
     "id": "9ba65652-2b58-4adc-bb1b-ca556743e198"
    },
    "slideshow": {
     "slide_type": "fragment"
    }
   },
   "outputs": [
    {
     "data": {
      "text/plain": [
       "False"
      ]
     },
     "execution_count": 28,
     "metadata": {},
     "output_type": "execute_result"
    }
   ],
   "source": [
    "2 == 3"
   ]
  },
  {
   "cell_type": "code",
   "execution_count": 29,
   "id": "98e4cf68",
   "metadata": {
    "nbpresent": {
     "id": "9ba65652-2b58-4adc-bb1b-ca556743e198"
    },
    "slideshow": {
     "slide_type": "fragment"
    }
   },
   "outputs": [
    {
     "data": {
      "text/plain": [
       "True"
      ]
     },
     "execution_count": 29,
     "metadata": {},
     "output_type": "execute_result"
    }
   ],
   "source": [
    " 2 < 3"
   ]
  },
  {
   "cell_type": "code",
   "execution_count": 30,
   "id": "1703d562",
   "metadata": {
    "nbpresent": {
     "id": "9ba65652-2b58-4adc-bb1b-ca556743e198"
    },
    "slideshow": {
     "slide_type": "fragment"
    }
   },
   "outputs": [
    {
     "data": {
      "text/plain": [
       "True"
      ]
     },
     "execution_count": 30,
     "metadata": {},
     "output_type": "execute_result"
    }
   ],
   "source": [
    " 2 <= 3"
   ]
  },
  {
   "cell_type": "code",
   "execution_count": 31,
   "id": "73808ab0",
   "metadata": {
    "nbpresent": {
     "id": "9ba65652-2b58-4adc-bb1b-ca556743e198"
    },
    "slideshow": {
     "slide_type": "fragment"
    }
   },
   "outputs": [
    {
     "data": {
      "text/plain": [
       "True"
      ]
     },
     "execution_count": 31,
     "metadata": {},
     "output_type": "execute_result"
    }
   ],
   "source": [
    " 2 != 3"
   ]
  },
  {
   "cell_type": "markdown",
   "id": "1aa16cb6",
   "metadata": {
    "nbpresent": {
     "id": "f2db4d92-a6dc-4ce4-973b-623addee60f5"
    },
    "slideshow": {
     "slide_type": "slide"
    }
   },
   "source": [
    "## Container operations"
   ]
  },
  {
   "cell_type": "code",
   "execution_count": 32,
   "id": "7619316b",
   "metadata": {
    "nbpresent": {
     "id": "cc07079e-46cf-4b24-8240-0c8f356cf384"
    },
    "slideshow": {
     "slide_type": "fragment"
    }
   },
   "outputs": [
    {
     "data": {
      "text/plain": [
       "True"
      ]
     },
     "execution_count": 32,
     "metadata": {},
     "output_type": "execute_result"
    }
   ],
   "source": [
    "2 in [1,2,3]"
   ]
  },
  {
   "cell_type": "code",
   "execution_count": 33,
   "id": "b9266973",
   "metadata": {
    "nbpresent": {
     "id": "98dc4cf4-0de9-45ac-8056-a6bb98506321"
    },
    "slideshow": {
     "slide_type": "fragment"
    }
   },
   "outputs": [
    {
     "data": {
      "text/plain": [
       "False"
      ]
     },
     "execution_count": 33,
     "metadata": {},
     "output_type": "execute_result"
    }
   ],
   "source": [
    "\"a\" in \"Todd\""
   ]
  },
  {
   "cell_type": "code",
   "execution_count": 34,
   "id": "a1a92d50",
   "metadata": {
    "nbpresent": {
     "id": "de82634e-c310-4316-8db0-1bef201414b6"
    },
    "slideshow": {
     "slide_type": "slide"
    }
   },
   "outputs": [
    {
     "data": {
      "text/plain": [
       "True"
      ]
     },
     "execution_count": 34,
     "metadata": {},
     "output_type": "execute_result"
    }
   ],
   "source": [
    "\"t\" not in \"Todd\""
   ]
  },
  {
   "cell_type": "code",
   "execution_count": 35,
   "id": "3b026741",
   "metadata": {
    "nbpresent": {
     "id": "b23fc6af-c8e8-4f21-bfc3-64448f3d209d"
    },
    "scrolled": true,
    "slideshow": {
     "slide_type": "fragment"
    }
   },
   "outputs": [
    {
     "data": {
      "text/plain": [
       "False"
      ]
     },
     "execution_count": 35,
     "metadata": {},
     "output_type": "execute_result"
    }
   ],
   "source": [
    "2 in [1, [2, 3]]"
   ]
  },
  {
   "cell_type": "markdown",
   "id": "0f07a549",
   "metadata": {
    "nbpresent": {
     "id": "a9702cc1-1da0-4d6b-8198-835ac55fd9eb"
    },
    "slideshow": {
     "slide_type": "slide"
    }
   },
   "source": [
    "### <font color=\"red\"> Exercise 5.1.5</font>\n",
    "\n",
    "Why does `2 in [1, [2, 3]]` to `False`?\n"
   ]
  },
  {
   "cell_type": "markdown",
   "id": "9b6f2b24",
   "metadata": {
    "slideshow": {
     "slide_type": "fragment"
    }
   },
   "source": [
    "> Your answer here."
   ]
  },
  {
   "cell_type": "markdown",
   "id": "11acd19c",
   "metadata": {
    "nbpresent": {
     "id": "8fb5d98c-6b7c-4ffb-8c28-ac5f7a055f1a"
    },
    "slideshow": {
     "slide_type": "slide"
    }
   },
   "source": [
    "## Combining boolean expressions\n",
    "\n",
    "- Use `and`, `or`, and `not`"
   ]
  },
  {
   "cell_type": "code",
   "execution_count": 36,
   "id": "8d6847da",
   "metadata": {
    "nbpresent": {
     "id": "5b47746d-6823-4b18-bd0a-e87df90e01e7"
    },
    "slideshow": {
     "slide_type": "fragment"
    }
   },
   "outputs": [
    {
     "data": {
      "text/plain": [
       "False"
      ]
     },
     "execution_count": 36,
     "metadata": {},
     "output_type": "execute_result"
    }
   ],
   "source": [
    "x, name = 5, \"Todd\"\n",
    "x % 2 == 1 and \"a\" in \"Todd\""
   ]
  },
  {
   "cell_type": "code",
   "execution_count": 37,
   "id": "18ce2680",
   "metadata": {
    "nbpresent": {
     "id": "298c54dc-9124-4201-beef-67b6d98b4633"
    },
    "slideshow": {
     "slide_type": "fragment"
    }
   },
   "outputs": [
    {
     "data": {
      "text/plain": [
       "True"
      ]
     },
     "execution_count": 37,
     "metadata": {},
     "output_type": "execute_result"
    }
   ],
   "source": [
    "x % 2 == 1 or \"a\" in \"Todd\""
   ]
  },
  {
   "cell_type": "code",
   "execution_count": 38,
   "id": "eb8297ff",
   "metadata": {
    "nbpresent": {
     "id": "ae43d805-5f59-4823-bbde-cb86bae63461"
    },
    "slideshow": {
     "slide_type": "fragment"
    }
   },
   "outputs": [
    {
     "data": {
      "text/plain": [
       "False"
      ]
     },
     "execution_count": 38,
     "metadata": {},
     "output_type": "execute_result"
    }
   ],
   "source": [
    "not 2 < 3"
   ]
  },
  {
   "cell_type": "markdown",
   "id": "f8563e7f",
   "metadata": {
    "slideshow": {
     "slide_type": "slide"
    }
   },
   "source": [
    "## Conditional Expression\n",
    "\n",
    "Syntax:\n",
    "\n",
    "```{python}\n",
    "true_val if boolean_condition else false_value\n",
    "```"
   ]
  },
  {
   "cell_type": "code",
   "execution_count": 39,
   "id": "8c77c34c",
   "metadata": {
    "slideshow": {
     "slide_type": "fragment"
    }
   },
   "outputs": [
    {
     "data": {
      "text/plain": [
       "'No t'"
      ]
     },
     "execution_count": 39,
     "metadata": {},
     "output_type": "execute_result"
    }
   ],
   "source": [
    "\"Has t\" if \"t\" in \"Todd\" else \"No t\""
   ]
  },
  {
   "cell_type": "markdown",
   "id": "eab550c2",
   "metadata": {
    "slideshow": {
     "slide_type": "slide"
    }
   },
   "source": [
    "## Evaluating the conditional expression\n",
    "\n",
    "<img src=\"./img/cond_expr_1.png\" width=400 />"
   ]
  },
  {
   "cell_type": "markdown",
   "id": "934ee303",
   "metadata": {
    "nbpresent": {
     "id": "a9702cc1-1da0-4d6b-8198-835ac55fd9eb"
    },
    "slideshow": {
     "slide_type": "slide"
    }
   },
   "source": [
    "## <font color=\"red\"> Exercise 5.1.6 </font>\n",
    "\n",
    "Evaluate `\"Yes\" if (5 <= x < 10) and (x % 2 == 1) else \"No\"` for the current value of `x`\n",
    "\n",
    "1. By hand\n",
    "2. With Python\n"
   ]
  },
  {
   "cell_type": "code",
   "execution_count": 40,
   "id": "e3b040b5",
   "metadata": {},
   "outputs": [],
   "source": [
    "# Evaluate x to see the current value"
   ]
  },
  {
   "cell_type": "markdown",
   "id": "3b53d2fc",
   "metadata": {
    "slideshow": {
     "slide_type": "fragment"
    }
   },
   "source": [
    "> Evaluate by hand here, working inside-out"
   ]
  },
  {
   "cell_type": "code",
   "execution_count": 41,
   "id": "81d2ea74",
   "metadata": {
    "slideshow": {
     "slide_type": "fragment"
    }
   },
   "outputs": [
    {
     "data": {
      "text/plain": [
       "'Your code here'"
      ]
     },
     "execution_count": 41,
     "metadata": {},
     "output_type": "execute_result"
    }
   ],
   "source": [
    "# Evaluate with Python\n",
    "\"Your code here\""
   ]
  }
 ],
 "metadata": {
  "anaconda-cloud": {},
  "kernelspec": {
   "display_name": "Python 3 (ipykernel)",
   "language": "python",
   "name": "python3"
  },
  "language_info": {
   "codemirror_mode": {
    "name": "ipython",
    "version": 3
   },
   "file_extension": ".py",
   "mimetype": "text/x-python",
   "name": "python",
   "nbconvert_exporter": "python",
   "pygments_lexer": "ipython3",
   "version": "3.9.12"
  }
 },
 "nbformat": 4,
 "nbformat_minor": 5
}
