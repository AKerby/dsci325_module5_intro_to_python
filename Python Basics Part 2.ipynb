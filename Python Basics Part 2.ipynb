{
  "cells": [
    {
      "cell_type": "markdown",
      "metadata": {
        "id": "view-in-github",
        "colab_type": "text"
      },
      "source": [
        "<a href=\"https://colab.research.google.com/github/AKerby/dsci325_module5_intro_to_python/blob/main/Python%20Basics%20Part%202.ipynb\" target=\"_parent\"><img src=\"https://colab.research.google.com/assets/colab-badge.svg\" alt=\"Open In Colab\"/></a>"
      ]
    },
    {
      "cell_type": "markdown",
      "metadata": {
        "id": "yID6pWLAwzQQ"
      },
      "source": [
        "# Module 5.2 - Python Basics: Modules and Objects\n",
        "\n",
        "We will cover four types of `import` statements\n",
        "\n",
        "* Basic `import library`\n",
        "* Assigning an alias using `import library as alias`\n",
        "* Importing specific elements using `from library import element`\n",
        "* Importing all elements using `from library import *`"
      ]
    },
    {
      "cell_type": "markdown",
      "metadata": {
        "id": "4xktJx_OwzQS"
      },
      "source": [
        "## Basic `import` statement\n",
        "\n",
        "* Many python tools need to be imported from a library\n",
        "* Use the **import statement**\n",
        "* **Basic syntax** `import math`"
      ]
    },
    {
      "cell_type": "code",
      "execution_count": null,
      "metadata": {
        "id": "tO6qxHj-wzQS"
      },
      "outputs": [],
      "source": [
        "import math"
      ]
    },
    {
      "cell_type": "code",
      "execution_count": null,
      "metadata": {
        "id": "WTokDQOBwzQS",
        "outputId": "945a537f-1626-4db1-df62-83edfefa4aeb"
      },
      "outputs": [
        {
          "data": {
            "text/plain": [
              "<module 'math' from '/Users/toddiverson/.pyenv/versions/anaconda3-2022.05/lib/python3.9/lib-dynload/math.cpython-39-darwin.so'>"
            ]
          },
          "execution_count": 2,
          "metadata": {},
          "output_type": "execute_result"
        }
      ],
      "source": [
        "math"
      ]
    },
    {
      "cell_type": "code",
      "execution_count": null,
      "metadata": {
        "id": "KwhlNniEwzQT",
        "outputId": "27aa5d51-c844-4220-a882-0c75dd5fc95f"
      },
      "outputs": [
        {
          "data": {
            "text/plain": [
              "module"
            ]
          },
          "execution_count": 3,
          "metadata": {},
          "output_type": "execute_result"
        }
      ],
      "source": [
        "type(math)"
      ]
    },
    {
      "cell_type": "markdown",
      "metadata": {
        "id": "hiXMDBCowzQU"
      },
      "source": [
        "## Think of modules as folders\n",
        "\n",
        "<img src=\"https://github.com/wsu-stat489/USCOTS2017_workshop/blob/master/img/mathmod.png?raw=true\">"
      ]
    },
    {
      "cell_type": "markdown",
      "metadata": {
        "id": "IP0M6IP5wzQU"
      },
      "source": [
        "## Inspecting a module with `dir` and `help`\n",
        "\n",
        "* Use `dir(module)` to list all elements\n",
        "* Use `help(module.item)` to learn about elements"
      ]
    },
    {
      "cell_type": "code",
      "execution_count": null,
      "metadata": {
        "scrolled": true,
        "id": "WgCJ8wu9wzQU",
        "outputId": "a9d37fb9-b5ae-4c96-97c4-3d7ab412fe15"
      },
      "outputs": [
        {
          "data": {
            "text/plain": [
              "['__doc__',\n",
              " '__file__',\n",
              " '__loader__',\n",
              " '__name__',\n",
              " '__package__',\n",
              " '__spec__',\n",
              " 'acos',\n",
              " 'acosh',\n",
              " 'asin',\n",
              " 'asinh',\n",
              " 'atan',\n",
              " 'atan2',\n",
              " 'atanh',\n",
              " 'ceil',\n",
              " 'comb',\n",
              " 'copysign',\n",
              " 'cos',\n",
              " 'cosh',\n",
              " 'degrees',\n",
              " 'dist',\n",
              " 'e',\n",
              " 'erf',\n",
              " 'erfc',\n",
              " 'exp',\n",
              " 'expm1',\n",
              " 'fabs',\n",
              " 'factorial',\n",
              " 'floor',\n",
              " 'fmod',\n",
              " 'frexp',\n",
              " 'fsum',\n",
              " 'gamma',\n",
              " 'gcd',\n",
              " 'hypot',\n",
              " 'inf',\n",
              " 'isclose',\n",
              " 'isfinite',\n",
              " 'isinf',\n",
              " 'isnan',\n",
              " 'isqrt',\n",
              " 'lcm',\n",
              " 'ldexp',\n",
              " 'lgamma',\n",
              " 'log',\n",
              " 'log10',\n",
              " 'log1p',\n",
              " 'log2',\n",
              " 'modf',\n",
              " 'nan',\n",
              " 'nextafter',\n",
              " 'perm',\n",
              " 'pi',\n",
              " 'pow',\n",
              " 'prod',\n",
              " 'radians',\n",
              " 'remainder',\n",
              " 'sin',\n",
              " 'sinh',\n",
              " 'sqrt',\n",
              " 'tan',\n",
              " 'tanh',\n",
              " 'tau',\n",
              " 'trunc',\n",
              " 'ulp']"
            ]
          },
          "execution_count": 5,
          "metadata": {},
          "output_type": "execute_result"
        }
      ],
      "source": [
        "dir(math)"
      ]
    },
    {
      "cell_type": "code",
      "execution_count": null,
      "metadata": {
        "scrolled": true,
        "id": "xWc9Vx5EwzQV",
        "outputId": "6719733b-8b46-4b24-b25a-d2a5d1be37a2"
      },
      "outputs": [
        {
          "name": "stdout",
          "output_type": "stream",
          "text": [
            "Help on built-in function fabs in module math:\n",
            "\n",
            "fabs(x, /)\n",
            "    Return the absolute value of the float x.\n",
            "\n"
          ]
        }
      ],
      "source": [
        "help(math.fabs)"
      ]
    },
    {
      "cell_type": "markdown",
      "metadata": {
        "id": "tpPuKXcMwzQX"
      },
      "source": [
        "## Double Underscore is *dunder* in Python\n",
        "\n",
        "A method like `\"__ge__\"` are\n",
        "* referred to as *dunder* methods\n",
        "* implementation details and mostly ignored\n",
        "\n",
        "**Train yourself to ignore these items.**"
      ]
    },
    {
      "cell_type": "markdown",
      "metadata": {
        "id": "JCUdroM1wzQX"
      },
      "source": [
        "## Accessing module content using dot notations.\n",
        "\n",
        "To access an element of a module, use `library.element`"
      ]
    },
    {
      "cell_type": "markdown",
      "metadata": {
        "id": "tHZt4RAEwzQX"
      },
      "source": [
        "#### Example 1.  Getting an approximate of $pi$ from the `math` module"
      ]
    },
    {
      "cell_type": "code",
      "execution_count": null,
      "metadata": {
        "id": "btFyU5KlwzQX",
        "outputId": "dd70abd2-2ac0-4927-88dc-baca59fec499"
      },
      "outputs": [
        {
          "data": {
            "text/plain": [
              "3.141592653589793"
            ]
          },
          "execution_count": 7,
          "metadata": {},
          "output_type": "execute_result"
        }
      ],
      "source": [
        "math.pi"
      ]
    },
    {
      "cell_type": "code",
      "execution_count": null,
      "metadata": {
        "scrolled": true,
        "id": "lTpN7nEcwzQX",
        "outputId": "c0a31e8d-94b9-4985-b04c-49c1d1ea7878"
      },
      "outputs": [
        {
          "data": {
            "text/plain": [
              "float"
            ]
          },
          "execution_count": 8,
          "metadata": {},
          "output_type": "execute_result"
        }
      ],
      "source": [
        "type(math.pi)"
      ]
    },
    {
      "cell_type": "markdown",
      "metadata": {
        "id": "4WttEeBhwzQX"
      },
      "source": [
        "#### Example 2.   Using the square root function from `math`"
      ]
    },
    {
      "cell_type": "code",
      "execution_count": null,
      "metadata": {
        "id": "wZI8npdgwzQX",
        "outputId": "06d0b01c-164d-4bd9-8679-f9b1dc33bb06"
      },
      "outputs": [
        {
          "data": {
            "text/plain": [
              "<function math.sqrt(x, /)>"
            ]
          },
          "execution_count": 11,
          "metadata": {},
          "output_type": "execute_result"
        }
      ],
      "source": [
        "math.sqrt # The functions (not executed)"
      ]
    },
    {
      "cell_type": "code",
      "execution_count": null,
      "metadata": {
        "id": "xr1JBOj0wzQY",
        "outputId": "c56965ed-344d-42da-da4b-8bf1ce0f2956"
      },
      "outputs": [
        {
          "data": {
            "text/plain": [
              "builtin_function_or_method"
            ]
          },
          "execution_count": 13,
          "metadata": {},
          "output_type": "execute_result"
        }
      ],
      "source": [
        "type(math.sqrt)"
      ]
    },
    {
      "cell_type": "code",
      "execution_count": null,
      "metadata": {
        "id": "l0HClrZkwzQY",
        "outputId": "33c7e72a-9fa7-4d32-959c-b5b2c53ad18c"
      },
      "outputs": [
        {
          "data": {
            "text/plain": [
              "1.7320508075688772"
            ]
          },
          "execution_count": 14,
          "metadata": {},
          "output_type": "execute_result"
        }
      ],
      "source": [
        "math.sqrt(3) # Calling the function on 3"
      ]
    },
    {
      "cell_type": "markdown",
      "metadata": {
        "id": "QycIKEBfwzQZ"
      },
      "source": [
        "## <font color=\"red\">Exercise 5.2.1 </font>\n",
        "\n",
        "Compute the $\\cos(\\pi/3)$"
      ]
    },
    {
      "cell_type": "markdown",
      "metadata": {
        "id": "tT4sE62swzQa"
      },
      "source": [
        "#### Step 1.  Use `dir` to look for candidate functions"
      ]
    },
    {
      "cell_type": "code",
      "execution_count": null,
      "metadata": {
        "id": "gCFQiBP6wzQa"
      },
      "outputs": [],
      "source": [
        "# Your code here"
      ]
    },
    {
      "cell_type": "markdown",
      "metadata": {
        "id": "-g2qy7HjwzQa"
      },
      "source": [
        "#### Step 2.  Use `help` to explore the possible function(s)"
      ]
    },
    {
      "cell_type": "code",
      "execution_count": null,
      "metadata": {
        "id": "x9XytTM3wzQa"
      },
      "outputs": [],
      "source": [
        "# Your code here."
      ]
    },
    {
      "cell_type": "markdown",
      "metadata": {
        "id": "ALJqXaPWwzQa"
      },
      "source": [
        "#### Step 3.  Compute the value of $\\cos(\\pi/3)$"
      ]
    },
    {
      "cell_type": "code",
      "execution_count": null,
      "metadata": {
        "id": "ozYM6W8cwzQa"
      },
      "outputs": [],
      "source": [
        "# Your code here"
      ]
    },
    {
      "cell_type": "markdown",
      "metadata": {
        "id": "pOwnd1T9wzQb"
      },
      "source": [
        "## Importing with an alias\n",
        "\n",
        "* Typing `math.` over and over gets annoying\n",
        "* `import math as m` assigns an alias"
      ]
    },
    {
      "cell_type": "code",
      "execution_count": null,
      "metadata": {
        "id": "4rz7kGwNwzQb"
      },
      "outputs": [],
      "source": [
        "import math as m # using an alias"
      ]
    },
    {
      "cell_type": "code",
      "execution_count": null,
      "metadata": {
        "scrolled": true,
        "id": "T7vHMZxHwzQb",
        "outputId": "77c0508f-eae7-421b-b65a-6cd45d6e1e41"
      },
      "outputs": [
        {
          "data": {
            "text/plain": [
              "0.5000000000000001"
            ]
          },
          "execution_count": 25,
          "metadata": {},
          "output_type": "execute_result"
        }
      ],
      "source": [
        "m.cos(m.pi/3)"
      ]
    },
    {
      "cell_type": "markdown",
      "metadata": {
        "id": "0CyNf7A2wzQb"
      },
      "source": [
        "## Importing directly into the main namespace\n",
        "\n",
        "* Use `from math import pi` to get direct access\n",
        "* Import multiple items, separated by commas\n",
        "* Beware of shadowing!"
      ]
    },
    {
      "cell_type": "code",
      "execution_count": null,
      "metadata": {
        "id": "QlabbCw4wzQb"
      },
      "outputs": [],
      "source": [
        "from math import pi, sqrt"
      ]
    },
    {
      "cell_type": "code",
      "execution_count": null,
      "metadata": {
        "id": "ean0SCs3wzQb",
        "outputId": "d534efd4-275b-409a-fbd5-5e85c09fdcea"
      },
      "outputs": [
        {
          "data": {
            "text/plain": [
              "1.772"
            ]
          },
          "execution_count": 27,
          "metadata": {},
          "output_type": "execute_result"
        }
      ],
      "source": [
        "round(sqrt(pi), 3)"
      ]
    },
    {
      "cell_type": "markdown",
      "metadata": {
        "id": "iIYa_ZHpwzQc"
      },
      "source": [
        "## Object Oriented Design\n",
        "\n",
        "All Python data are objects with associated methods at attributes\n",
        "\n",
        "* **attributes** are data/variables\n",
        "* **methods** are functions that transform the objects data\n"
      ]
    },
    {
      "cell_type": "markdown",
      "metadata": {
        "id": "ppXAn0FiwzQc"
      },
      "source": [
        "## Example - String\n",
        "\n",
        "Python strings include\n",
        "\n",
        "* Text data\n",
        "* Methods for working with that string"
      ]
    },
    {
      "cell_type": "markdown",
      "metadata": {
        "id": "weBFL7v2wzQc"
      },
      "source": [
        "#### Example.  Making a string upper case"
      ]
    },
    {
      "cell_type": "code",
      "execution_count": null,
      "metadata": {
        "scrolled": true,
        "id": "KSEOu78zwzQc",
        "outputId": "41c4e4a2-46c7-4766-d47c-a691a75eac49"
      },
      "outputs": [
        {
          "data": {
            "text/plain": [
              "'Do the difficult things while they are easy and do the great things while they are small.'"
            ]
          },
          "execution_count": 41,
          "metadata": {},
          "output_type": "execute_result"
        }
      ],
      "source": [
        "s = \"Do the difficult things while they are easy and do the great things while they are small.\"\n",
        "s"
      ]
    },
    {
      "cell_type": "code",
      "execution_count": null,
      "metadata": {
        "id": "76eRxhr0wzQd",
        "outputId": "0c22c46c-c702-482e-fd0a-6e21f2e34000"
      },
      "outputs": [
        {
          "data": {
            "text/plain": [
              "'DO THE DIFFICULT THINGS WHILE THEY ARE EASY AND DO THE GREAT THINGS WHILE THEY ARE SMALL.'"
            ]
          },
          "execution_count": 43,
          "metadata": {},
          "output_type": "execute_result"
        }
      ],
      "source": [
        "s.upper() # Calling the upper method to transform to upper case"
      ]
    },
    {
      "cell_type": "code",
      "execution_count": null,
      "metadata": {
        "scrolled": true,
        "id": "eIXm6jtDwzQd",
        "outputId": "a1c54369-d073-48e5-f581-0014c1c80138"
      },
      "outputs": [
        {
          "data": {
            "text/plain": [
              "'Do the difficult things while they are easy and do the great things while they are small.'"
            ]
          },
          "execution_count": 44,
          "metadata": {},
          "output_type": "execute_result"
        }
      ],
      "source": [
        "s # Notice that `upper` didn't mutate/change the original data"
      ]
    },
    {
      "cell_type": "markdown",
      "metadata": {
        "id": "d1kohV4kwzQd"
      },
      "source": [
        "## Chaining `str` methods\n",
        "\n",
        "* You can string chain methods together with\n",
        "    * `obj.method1().method2()`\n",
        "* Make sure each method returns a `str`"
      ]
    },
    {
      "cell_type": "code",
      "execution_count": null,
      "metadata": {
        "scrolled": true,
        "id": "mJjZXMifwzQd",
        "outputId": "8341a34f-4449-4627-8258-6e61f9271c97"
      },
      "outputs": [
        {
          "data": {
            "text/plain": [
              "'put off the difficult things while they are easy and put off the great things while they are small.'"
            ]
          },
          "execution_count": 45,
          "metadata": {},
          "output_type": "execute_result"
        }
      ],
      "source": [
        "s.lower().replace(\"do\", \"put off\")"
      ]
    },
    {
      "cell_type": "markdown",
      "metadata": {
        "id": "Ayoj2fcuwzQe"
      },
      "source": [
        "## Think both *type* and *value* for each piece of the chain\n",
        "\n",
        "<img src=\"https://github.com/AKerby/dsci325_module5_intro_to_python/blob/main/img/type_and_dot_chaining.png?raw=1\" width=400>"
      ]
    },
    {
      "cell_type": "markdown",
      "metadata": {
        "id": "8HzeadhtwzQe"
      },
      "source": [
        "## Chaining methods is like piping\n",
        "\n",
        "**Piping in `R` looks like**\n",
        "\n",
        "<img src=\"https://github.com/AKerby/dsci325_module5_intro_to_python/blob/main/img/r_pipe.png?raw=1\" width=800>\n",
        "\n",
        "**Dot-chaining in Python looks like**\n",
        "\n",
        "```{python}\n",
        "s.lower().replace(\"do\", \"put off\")\n",
        "```"
      ]
    },
    {
      "cell_type": "markdown",
      "metadata": {
        "id": "i3P0WQw1wzQe"
      },
      "source": [
        "## Use `dir` and dot notation with objects\n",
        "\n",
        "* `dir` lists all attributes/methods\n",
        "* Ignore members starting with `_`\n",
        "* Use dot notation to access members"
      ]
    },
    {
      "cell_type": "code",
      "execution_count": null,
      "metadata": {
        "scrolled": true,
        "id": "6sA0eAfpwzQe",
        "outputId": "61db1063-9509-497e-ac37-442f85422229"
      },
      "outputs": [
        {
          "data": {
            "text/plain": [
              "['__add__',\n",
              " '__class__',\n",
              " '__contains__',\n",
              " '__delattr__',\n",
              " '__dir__',\n",
              " '__doc__',\n",
              " '__eq__',\n",
              " '__format__',\n",
              " '__ge__',\n",
              " '__getattribute__',\n",
              " '__getitem__',\n",
              " '__getnewargs__',\n",
              " '__gt__',\n",
              " '__hash__',\n",
              " '__init__',\n",
              " '__init_subclass__',\n",
              " '__iter__',\n",
              " '__le__',\n",
              " '__len__',\n",
              " '__lt__',\n",
              " '__mod__',\n",
              " '__mul__',\n",
              " '__ne__',\n",
              " '__new__',\n",
              " '__reduce__',\n",
              " '__reduce_ex__',\n",
              " '__repr__',\n",
              " '__rmod__',\n",
              " '__rmul__',\n",
              " '__setattr__',\n",
              " '__sizeof__',\n",
              " '__str__',\n",
              " '__subclasshook__',\n",
              " 'capitalize',\n",
              " 'casefold',\n",
              " 'center',\n",
              " 'count',\n",
              " 'encode',\n",
              " 'endswith',\n",
              " 'expandtabs',\n",
              " 'find',\n",
              " 'format',\n",
              " 'format_map',\n",
              " 'index',\n",
              " 'isalnum',\n",
              " 'isalpha',\n",
              " 'isdecimal',\n",
              " 'isdigit',\n",
              " 'isidentifier',\n",
              " 'islower',\n",
              " 'isnumeric',\n",
              " 'isprintable',\n",
              " 'isspace',\n",
              " 'istitle',\n",
              " 'isupper',\n",
              " 'join',\n",
              " 'ljust',\n",
              " 'lower',\n",
              " 'lstrip',\n",
              " 'maketrans',\n",
              " 'partition',\n",
              " 'replace',\n",
              " 'rfind',\n",
              " 'rindex',\n",
              " 'rjust',\n",
              " 'rpartition',\n",
              " 'rsplit',\n",
              " 'rstrip',\n",
              " 'split',\n",
              " 'splitlines',\n",
              " 'startswith',\n",
              " 'strip',\n",
              " 'swapcase',\n",
              " 'title',\n",
              " 'translate',\n",
              " 'upper',\n",
              " 'zfill']"
            ]
          },
          "execution_count": 24,
          "metadata": {},
          "output_type": "execute_result"
        }
      ],
      "source": [
        "dir(s)"
      ]
    },
    {
      "cell_type": "markdown",
      "metadata": {
        "id": "q-96ItulwzQe"
      },
      "source": [
        "## Exploring methods with help\n",
        "\n",
        "* `help` gives some info about a method.\n",
        "* Syntax: `help(object.method)`\n",
        "    * NOT a function call"
      ]
    },
    {
      "cell_type": "code",
      "execution_count": null,
      "metadata": {
        "scrolled": true,
        "id": "0hElIHEswzQe",
        "outputId": "e8fbf062-da53-4b9d-b920-1cfe260681f1"
      },
      "outputs": [
        {
          "name": "stdout",
          "output_type": "stream",
          "text": [
            "Help on built-in function casefold:\n",
            "\n",
            "casefold(...) method of builtins.str instance\n",
            "    S.casefold() -> str\n",
            "    \n",
            "    Return a version of S suitable for caseless comparisons.\n",
            "\n"
          ]
        }
      ],
      "source": [
        "help(s.casefold)"
      ]
    },
    {
      "cell_type": "code",
      "execution_count": null,
      "metadata": {
        "id": "pRFCLDCywzQf",
        "outputId": "0f294997-dbd3-42e5-f093-97d4f7899564"
      },
      "outputs": [
        {
          "data": {
            "text/plain": [
              "'do the difficult things while they are easy and do the great things while they are small.'"
            ]
          },
          "execution_count": 26,
          "metadata": {},
          "output_type": "execute_result"
        }
      ],
      "source": [
        "s.casefold()"
      ]
    },
    {
      "cell_type": "code",
      "execution_count": null,
      "metadata": {
        "id": "krOjNUKLwzQf",
        "outputId": "29dca005-dcbd-4b62-aba0-1ac20ec39e5b"
      },
      "outputs": [
        {
          "data": {
            "text/plain": [
              "89"
            ]
          },
          "execution_count": 27,
          "metadata": {},
          "output_type": "execute_result"
        }
      ],
      "source": [
        "len(s)"
      ]
    },
    {
      "cell_type": "markdown",
      "metadata": {
        "id": "zz9-TmHpwzQf"
      },
      "source": [
        "<font color=\"red\"><h2> Exercise 5.2.2 </h2></font>\n",
        "\n",
        "What is the difference between the following.\n",
        "Which is correct?"
      ]
    },
    {
      "cell_type": "code",
      "execution_count": null,
      "metadata": {
        "id": "cBQ6D2MEwzQg",
        "outputId": "f029d2a9-0e02-43c6-b513-59c45f147148"
      },
      "outputs": [
        {
          "name": "stdout",
          "output_type": "stream",
          "text": [
            "Help on built-in function upper:\n",
            "\n",
            "upper() method of builtins.str instance\n",
            "    Return a copy of the string converted to uppercase.\n",
            "\n"
          ]
        }
      ],
      "source": [
        "help(s.upper)"
      ]
    },
    {
      "cell_type": "code",
      "execution_count": null,
      "metadata": {
        "id": "y23Ny9ISwzQg",
        "outputId": "6e8aa010-e77f-4889-83aa-63c0d5594dba"
      },
      "outputs": [
        {
          "name": "stdout",
          "output_type": "stream",
          "text": [
            "No Python documentation found for 'DO THE DIFFICULT THINGS WHILE THEY ARE EASY AND DO THE GREAT THINGS WHILE THEY ARE SMALL.'.\n",
            "Use help() to get the interactive help utility.\n",
            "Use help(str) for help on the str class.\n",
            "\n"
          ]
        }
      ],
      "source": [
        "help(s.upper())"
      ]
    },
    {
      "cell_type": "markdown",
      "metadata": {
        "id": "ldJCtJMdwzQg"
      },
      "source": [
        "<font color=\"red\"><h2> Exercise 5.2.3 </h2></font>\n",
        "\n",
        "Perform the following in one dot-chained expression\n",
        "\n",
        "\n",
        "1. Make the string lower case.\n",
        "2. Change the \"do\"s in the original quote to \"definitely do\"s"
      ]
    },
    {
      "cell_type": "code",
      "execution_count": null,
      "metadata": {
        "id": "ZSFlG-UBwzQg",
        "outputId": "207ad223-fd62-49e0-813d-9696d7f98811"
      },
      "outputs": [
        {
          "data": {
            "text/plain": [
              "'Your answer here'"
            ]
          },
          "execution_count": 51,
          "metadata": {},
          "output_type": "execute_result"
        }
      ],
      "source": [
        "\"Your answer here\""
      ]
    }
  ],
  "metadata": {
    "anaconda-cloud": {},
    "celltoolbar": "Slideshow",
    "kernelspec": {
      "display_name": "Python 3 (ipykernel)",
      "language": "python",
      "name": "python3"
    },
    "language_info": {
      "codemirror_mode": {
        "name": "ipython",
        "version": 3
      },
      "file_extension": ".py",
      "mimetype": "text/x-python",
      "name": "python",
      "nbconvert_exporter": "python",
      "pygments_lexer": "ipython3",
      "version": "3.9.12"
    },
    "colab": {
      "provenance": [],
      "include_colab_link": true
    }
  },
  "nbformat": 4,
  "nbformat_minor": 0
}